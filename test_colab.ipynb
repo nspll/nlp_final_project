{
  "nbformat": 4,
  "nbformat_minor": 0,
  "metadata": {
    "colab": {
      "name": "Untitled6.ipynb",
      "version": "0.3.2",
      "provenance": [],
      "toc_visible": true,
      "include_colab_link": true
    },
    "kernelspec": {
      "name": "python3",
      "display_name": "Python 3"
    }
  },
  "cells": [
    {
      "cell_type": "markdown",
      "metadata": {
        "id": "view-in-github",
        "colab_type": "text"
      },
      "source": [
        "<a href=\"https://colab.research.google.com/github/nspll/nlp_final_project/blob/master/test_colab.ipynb\" target=\"_parent\"><img src=\"https://colab.research.google.com/assets/colab-badge.svg\" alt=\"Open In Colab\"/></a>"
      ]
    },
    {
      "metadata": {
        "id": "yH3s2S9XXcjI",
        "colab_type": "code",
        "outputId": "5498043f-42ce-4dd5-9c69-3d2c30d959f6",
        "colab": {
          "base_uri": "https://localhost:8080/",
          "height": 204
        }
      },
      "cell_type": "code",
      "source": [
        "!pip install git+https://github.com/nspll/nlp_final_project.git\n",
        "  "
      ],
      "execution_count": 0,
      "outputs": [
        {
          "output_type": "stream",
          "text": [
            "Collecting git+https://github.com/nspll/nlp_final_project.git\n",
            "  Cloning https://github.com/nspll/nlp_final_project.git to /tmp/pip-req-build-mi6kw15i\n",
            "    Complete output from command python setup.py egg_info:\n",
            "    Traceback (most recent call last):\n",
            "      File \"<string>\", line 1, in <module>\n",
            "      File \"/usr/lib/python3.6/tokenize.py\", line 452, in open\n",
            "        buffer = _builtin_open(filename, 'rb')\n",
            "    FileNotFoundError: [Errno 2] No such file or directory: '/tmp/pip-req-build-mi6kw15i/setup.py'\n",
            "    \n",
            "    ----------------------------------------\n",
            "\u001b[31mCommand \"python setup.py egg_info\" failed with error code 1 in /tmp/pip-req-build-mi6kw15i/\u001b[0m\n"
          ],
          "name": "stdout"
        }
      ]
    },
    {
      "metadata": {
        "id": "NXZQ3XOofIo1",
        "colab_type": "code",
        "outputId": "383853d2-2f76-481a-ecc3-d0fc91d0f76c",
        "colab": {
          "base_uri": "https://localhost:8080/",
          "height": 163
        }
      },
      "cell_type": "code",
      "source": [
        ""
      ],
      "execution_count": 0,
      "outputs": [
        {
          "output_type": "error",
          "ename": "FileNotFoundError",
          "evalue": "ignored",
          "traceback": [
            "\u001b[0;31m---------------------------------------------------------------------------\u001b[0m",
            "\u001b[0;31mFileNotFoundError\u001b[0m                         Traceback (most recent call last)",
            "\u001b[0;32m<ipython-input-140-6a12a06c62b4>\u001b[0m in \u001b[0;36m<module>\u001b[0;34m()\u001b[0m\n\u001b[0;32m----> 1\u001b[0;31m \u001b[0mopen\u001b[0m \u001b[0;34m(\u001b[0m\u001b[0;34m'ภาพยนตร์ไทย.txt'\u001b[0m\u001b[0;34m,\u001b[0m\u001b[0;34m'r'\u001b[0m\u001b[0;34m)\u001b[0m\u001b[0;34m\u001b[0m\u001b[0;34m\u001b[0m\u001b[0m\n\u001b[0m",
            "\u001b[0;31mFileNotFoundError\u001b[0m: [Errno 2] No such file or directory: 'ภาพยนตร์ไทย.txt'"
          ]
        }
      ]
    },
    {
      "metadata": {
        "id": "XQIKKuWfY9I9",
        "colab_type": "code",
        "colab": {
          "base_uri": "https://localhost:8080/",
          "height": 496
        },
        "outputId": "ecfdcdf8-27f7-4a46-9b01-0b52f16b6dbb"
      },
      "cell_type": "code",
      "source": [
        "!pip install pythainlp\n"
      ],
      "execution_count": 1,
      "outputs": [
        {
          "output_type": "stream",
          "text": [
            "Collecting pythainlp\n",
            "\u001b[?25l  Downloading https://files.pythonhosted.org/packages/4b/cf/9beb2bcb6370e86f33d3b07cac514bf29352e3cb826828b00c1ca3efac72/pythainlp-1.7.1-py3-none-any.whl (10.3MB)\n",
            "\u001b[K    100% |████████████████████████████████| 10.3MB 3.2MB/s \n",
            "\u001b[?25hRequirement already satisfied: dill in /usr/local/lib/python3.6/dist-packages (from pythainlp) (0.2.8.2)\n",
            "Collecting conllu (from pythainlp)\n",
            "  Downloading https://files.pythonhosted.org/packages/12/63/00094506b473b176be0a632e205d2a8b631cf42384b06d1e29eebf59f4da/conllu-1.2.1-py2.py3-none-any.whl\n",
            "Requirement already satisfied: future>=0.16.0 in /usr/local/lib/python3.6/dist-packages (from pythainlp) (0.16.0)\n",
            "Requirement already satisfied: tqdm in /usr/local/lib/python3.6/dist-packages (from pythainlp) (4.28.1)\n",
            "Requirement already satisfied: pytz in /usr/local/lib/python3.6/dist-packages (from pythainlp) (2018.7)\n",
            "Collecting tinydb (from pythainlp)\n",
            "  Downloading https://files.pythonhosted.org/packages/58/55/54f428597853184ff74f6e65ff9c771aaad353fc182f881d9863bcc3bace/tinydb-3.12.1-py2.py3-none-any.whl\n",
            "Requirement already satisfied: nltk>=3.2.2 in /usr/local/lib/python3.6/dist-packages (from pythainlp) (3.2.5)\n",
            "Requirement already satisfied: six in /usr/local/lib/python3.6/dist-packages (from pythainlp) (1.11.0)\n",
            "Collecting marisa-trie (from pythainlp)\n",
            "\u001b[?25l  Downloading https://files.pythonhosted.org/packages/20/95/d23071d0992dabcb61c948fb118a90683193befc88c23e745b050a29e7db/marisa-trie-0.7.5.tar.gz (270kB)\n",
            "\u001b[K    100% |████████████████████████████████| 276kB 23.3MB/s \n",
            "\u001b[?25hRequirement already satisfied: requests in /usr/local/lib/python3.6/dist-packages (from pythainlp) (2.18.4)\n",
            "Requirement already satisfied: chardet<3.1.0,>=3.0.2 in /usr/local/lib/python3.6/dist-packages (from requests->pythainlp) (3.0.4)\n",
            "Requirement already satisfied: certifi>=2017.4.17 in /usr/local/lib/python3.6/dist-packages (from requests->pythainlp) (2018.11.29)\n",
            "Requirement already satisfied: idna<2.7,>=2.5 in /usr/local/lib/python3.6/dist-packages (from requests->pythainlp) (2.6)\n",
            "Requirement already satisfied: urllib3<1.23,>=1.21.1 in /usr/local/lib/python3.6/dist-packages (from requests->pythainlp) (1.22)\n",
            "Building wheels for collected packages: marisa-trie\n",
            "  Running setup.py bdist_wheel for marisa-trie ... \u001b[?25l-\b \b\\\b \b|\b \b/\b \b-\b \b\\\b \b|\b \b/\b \b-\b \b\\\b \b|\b \b/\b \b-\b \b\\\b \b|\b \b/\b \b-\b \b\\\b \b|\b \b/\b \b-\b \b\\\b \bdone\n",
            "\u001b[?25h  Stored in directory: /root/.cache/pip/wheels/45/24/79/022624fc914f0e559fe8a1141aaff1f9df810905a13fc75d57\n",
            "Successfully built marisa-trie\n",
            "Installing collected packages: conllu, tinydb, marisa-trie, pythainlp\n",
            "Successfully installed conllu-1.2.1 marisa-trie-0.7.5 pythainlp-1.7.1 tinydb-3.12.1\n"
          ],
          "name": "stdout"
        }
      ]
    },
    {
      "metadata": {
        "id": "R8sVk9_z-4cn",
        "colab_type": "text"
      },
      "cell_type": "markdown",
      "source": [
        "เปิดไฟล์ที่เก็บความถี่ของหัวข้อแต่ละหัวข้อไว้"
      ]
    },
    {
      "metadata": {
        "id": "8rkmcajL_Sxl",
        "colab_type": "code",
        "colab": {}
      },
      "cell_type": "code",
      "source": [
        "import json"
      ],
      "execution_count": 0,
      "outputs": []
    },
    {
      "metadata": {
        "id": "nOzfLxRV-Cmq",
        "colab_type": "code",
        "colab": {}
      },
      "cell_type": "code",
      "source": [
        "file = open('freq_article_in_flie_json_2.txt','r')"
      ],
      "execution_count": 0,
      "outputs": []
    },
    {
      "metadata": {
        "id": "XZKlpBLN_LCs",
        "colab_type": "code",
        "colab": {}
      },
      "cell_type": "code",
      "source": [
        "freq_dic = json.loads(file.read())"
      ],
      "execution_count": 0,
      "outputs": []
    },
    {
      "metadata": {
        "id": "hzBtxiAM_WEm",
        "colab_type": "code",
        "colab": {}
      },
      "cell_type": "code",
      "source": [
        "file.close()"
      ],
      "execution_count": 0,
      "outputs": []
    },
    {
      "metadata": {
        "id": "itxE59iC5qgc",
        "colab_type": "code",
        "outputId": "c9433529-cb46-42df-c7c3-4ea90e8e886c",
        "colab": {
          "base_uri": "https://localhost:8080/",
          "height": 85
        }
      },
      "cell_type": "code",
      "source": [
        "kat = ['ant','cat','mat']\n",
        "fwd = {'ant':1000 ,'cat':0 ,'mat':15}\n",
        "p_list = sorted ([ (fwd[article],article) for article in kat ])\n",
        "print (p_list)\n",
        "for p in p_list:\n",
        "  print (p[0])\n",
        "\n"
      ],
      "execution_count": 0,
      "outputs": [
        {
          "output_type": "stream",
          "text": [
            "[(0, 'cat'), (15, 'mat'), (1000, 'ant')]\n",
            "0\n",
            "15\n",
            "1000\n"
          ],
          "name": "stdout"
        }
      ]
    },
    {
      "metadata": {
        "id": "UDYtw0Kw9R6K",
        "colab_type": "code",
        "outputId": "724f1881-4d81-47b9-a738-54a4aa261536",
        "colab": {
          "base_uri": "https://localhost:8080/",
          "height": 34
        }
      },
      "cell_type": "code",
      "source": [
        "a = '123456789'\n",
        "print (a[1:-1])"
      ],
      "execution_count": 0,
      "outputs": [
        {
          "output_type": "stream",
          "text": [
            "2345678\n"
          ],
          "name": "stdout"
        }
      ]
    },
    {
      "metadata": {
        "id": "JsegpPaG7fvH",
        "colab_type": "code",
        "outputId": "c0cab625-649e-49b4-f1b2-3a2e5312f64f",
        "colab": {
          "base_uri": "https://localhost:8080/",
          "height": 187
        }
      },
      "cell_type": "code",
      "source": [
        "print (type(freq_word_dic))\n",
        "my_freq = freq_word_dic[8:-1]\n",
        "print (my_freq)"
      ],
      "execution_count": 0,
      "outputs": [
        {
          "output_type": "stream",
          "text": [
            "IOPub data rate exceeded.\n",
            "The notebook server will temporarily stop sending output\n",
            "to the client in order to avoid crashing it.\n",
            "To change this limit, set the config variable\n",
            "`--NotebookApp.iopub_data_rate_limit`.\n",
            "\n",
            "Current values:\n",
            "NotebookApp.iopub_data_rate_limit=1000000.0 (bytes/sec)\n",
            "NotebookApp.rate_limit_window=3.0 (secs)\n",
            "\n"
          ],
          "name": "stderr"
        }
      ]
    },
    {
      "metadata": {
        "id": "MH-gRDjHBjlD",
        "colab_type": "code",
        "colab": {
          "base_uri": "https://localhost:8080/",
          "height": 34
        },
        "outputId": "115d4198-59ed-4205-998a-321bd2f0c071"
      },
      "cell_type": "code",
      "source": [
        "freq_dic['ประเทศ']"
      ],
      "execution_count": 12,
      "outputs": [
        {
          "output_type": "execute_result",
          "data": {
            "text/plain": [
              "7703"
            ]
          },
          "metadata": {
            "tags": []
          },
          "execution_count": 12
        }
      ]
    },
    {
      "metadata": {
        "id": "V63S3YJE57W3",
        "colab_type": "code",
        "outputId": "1de77d2d-48c2-4e78-ca97-3cca14705085",
        "colab": {
          "base_uri": "https://localhost:8080/",
          "height": 34
        }
      },
      "cell_type": "code",
      "source": [
        "prioritize_keyword (['เมืองหลวง','เฮโจเกียว','ประเทศ'], freq_dic)"
      ],
      "execution_count": 37,
      "outputs": [
        {
          "output_type": "execute_result",
          "data": {
            "text/plain": [
              "['เฮโจเกียว', 'เมืองหลวง', 'ประเทศ']"
            ]
          },
          "metadata": {
            "tags": []
          },
          "execution_count": 37
        }
      ]
    },
    {
      "metadata": {
        "id": "q1xxXJVl3Lrw",
        "colab_type": "code",
        "colab": {}
      },
      "cell_type": "code",
      "source": [
        "def prioritize_keyword ( key_article_list , freq_word_dic):\n",
        "  '''\n",
        "  (list,dic)=>list\n",
        "  จัดลำดับความสำคัญของชื่อหัวข้อ\n",
        "  parameters :\n",
        "  key_article_list : ชื่อหัวข้อที่มีอยู่ในคำถาม\n",
        "  freq_word_doc : เก็บ key เป็น ชื่อหัวข้อ (article) ค่าเป็นจำนวนความถี่ โดยเรียงความถี่มาอยู่แล้วจากมากไปน้อย\n",
        "  return prioritize article list\n",
        "  \n",
        "  '''\n",
        "  #for i in key_article_list:\n",
        "   #print (i,freq_word_dic[i])\n",
        "  ans =   sorted ( [ (freq_word_dic[article],article) for article in key_article_list if freq_word_dic[article] ] )\n",
        "  article_sorted_list = [item[1]for item in ans]\n",
        "  \n",
        "  return article_sorted_list\n",
        "    "
      ],
      "execution_count": 0,
      "outputs": []
    },
    {
      "metadata": {
        "id": "ojdwqkrdYi3r",
        "colab_type": "text"
      },
      "cell_type": "markdown",
      "source": [
        "ทดสอบ"
      ]
    },
    {
      "metadata": {
        "id": "hm-4cNND6XkC",
        "colab_type": "code",
        "colab": {}
      },
      "cell_type": "code",
      "source": [
        "prioritize_keyword (['เมืองหลวง','เฮโจเกียว','ปรเทศ'], freq_word_dic)"
      ],
      "execution_count": 0,
      "outputs": []
    },
    {
      "metadata": {
        "id": "GAhI7gwxEX_l",
        "colab_type": "code",
        "outputId": "58a52dde-3ccb-4060-ec19-e1fbda12d485",
        "colab": {
          "base_uri": "https://localhost:8080/",
          "height": 34
        }
      },
      "cell_type": "code",
      "source": [
        "import re\n",
        "question = 'เฮโจเกียวเป็นเมืองหลวงของประเทศอะไร'\n",
        "data = 'เฮโจเกียว หรือ เฮเซเกียว (ญี่ปุ่น: 平城京) เป็นเมืองหลวงโบราณของประเทศญี่ปุ่น อีกนัยหนึ่งก็คือเมืองหลวงในยุคนาระนั่นเอง ตั้งอยู่ใน จังหวัดนาระ ประเทศญี่ปุ่น มีรูปทรงเป็นแบบเวียง คือรูปทรงสี่เหลี่ยมพื้นผ้าตามแบบจีน หรือตามแบบที่นิยมสร้างกันในอาณาจักรล้านนาและพม่า ซึ่งเฮโจเกียวนี้ได้นำแบบแผนมาจากเมืองซีอานประเทศจีน เมืองหลวงของจีนในขณะนั้น'\n",
        "s = 'เฮโจเกียว'\n",
        "re.findall('เฮโจเกียว.*เมืองหลวง.*ของประเทศ([ก-ํ]+)\\s',data)\n"
      ],
      "execution_count": 0,
      "outputs": [
        {
          "output_type": "execute_result",
          "data": {
            "text/plain": [
              "['ญี่ปุ่น']"
            ]
          },
          "metadata": {
            "tags": []
          },
          "execution_count": 111
        }
      ]
    },
    {
      "metadata": {
        "id": "Z-XRkLEnYlIw",
        "colab_type": "code",
        "outputId": "0d4b1516-646b-437b-8f00-242b7f27f020",
        "colab": {
          "base_uri": "https://localhost:8080/",
          "height": 34
        }
      },
      "cell_type": "code",
      "source": [
        "from pythainlp.tokenize import word_tokenize\n",
        "q_word = ['อะไร','ใคร','ที่ไหน','ไหน']\n",
        "article = 'เฮโจเกียว'\n",
        "q_pat = question.replace('อะไร','55555')\n",
        "word_tokenize(re.findall(str(article)+'(.*)',question)[0],engine='newmm')\n",
        "word_tokenize(question.replace('เฮโจเกียว','([ก-ํ]+)'))\n",
        "q_word"
      ],
      "execution_count": 0,
      "outputs": [
        {
          "output_type": "execute_result",
          "data": {
            "text/plain": [
              "['อะไร', 'ใคร', 'ที่ไหน', 'ไหน']"
            ]
          },
          "metadata": {
            "tags": []
          },
          "execution_count": 32
        }
      ]
    },
    {
      "metadata": {
        "id": "5itPN53EryPd",
        "colab_type": "code",
        "outputId": "db61ee67-c456-4d87-8416-ae322ac0ef73",
        "colab": {
          "base_uri": "https://localhost:8080/",
          "height": 51
        }
      },
      "cell_type": "code",
      "source": [
        "a = ['กการ','b','e','k']\n",
        "a[-1] = 'หกหก'\n",
        "print (a[0:1])\n",
        "aa ='.*'.join(a[0:3])+''.join(a[3:])+'\\s'\n",
        "print (aa)\n",
        "\n"
      ],
      "execution_count": 0,
      "outputs": [
        {
          "output_type": "stream",
          "text": [
            "['กการ']\n",
            "กการ.*b.*eหกหก\\s\n"
          ],
          "name": "stdout"
        }
      ]
    },
    {
      "metadata": {
        "id": "1XTvSpCiQbhn",
        "colab_type": "code",
        "outputId": "ae0a9d02-d26c-4e2c-8dd2-c86f5c00f159",
        "colab": {
          "base_uri": "https://localhost:8080/",
          "height": 34
        }
      },
      "cell_type": "code",
      "source": [
        "get_answer('เฮโจเกียวเป็นเมืองหลวงของประเทศไหน' ,'เฮโจเกียว',data)"
      ],
      "execution_count": 0,
      "outputs": [
        {
          "output_type": "execute_result",
          "data": {
            "text/plain": [
              "'ญี่ปุ่น'"
            ]
          },
          "metadata": {
            "tags": []
          },
          "execution_count": 117
        }
      ]
    },
    {
      "metadata": {
        "id": "EgOg-m2mak6m",
        "colab_type": "code",
        "outputId": "6cfd3af2-b004-440b-d63e-a3e025c8c5e0",
        "colab": {
          "base_uri": "https://localhost:8080/",
          "height": 51
        }
      },
      "cell_type": "code",
      "source": [
        "article_dic = { 'เฉลียว ปทุมรส':'100212.txt'}\n",
        "get_answer('เฉลียว ปทุมรสคือใคร','เฉลียว ปทุมรส',article_dic)"
      ],
      "execution_count": 0,
      "outputs": [
        {
          "output_type": "stream",
          "text": [
            "['เฉลียว ปทุมรสคือ([ก-ํ]+)\\\\s', 'เฉลียว ปทุมรส.*คือ([ก-ํ]+)\\\\s']\n"
          ],
          "name": "stdout"
        },
        {
          "output_type": "execute_result",
          "data": {
            "text/plain": [
              "''"
            ]
          },
          "metadata": {
            "tags": []
          },
          "execution_count": 143
        }
      ]
    },
    {
      "metadata": {
        "id": "KT_DfqGBSJsx",
        "colab_type": "code",
        "colab": {}
      },
      "cell_type": "code",
      "source": [
        "def get_data(article,article_dic):\n",
        "  '''\n",
        "  เอาข้อมูลในไฟล์\n",
        "  '''\n",
        "  file_name = article_dic[article]\n",
        "  data = open(file_name, 'r',encoding ='utf-8').read()\n",
        "  return data\n",
        "  "
      ],
      "execution_count": 0,
      "outputs": []
    },
    {
      "metadata": {
        "id": "8kJu9L8aPGC6",
        "colab_type": "code",
        "colab": {}
      },
      "cell_type": "code",
      "source": [
        "def get_answer(question,article,article_dic):\n",
        "  '''\n",
        "  finding anser in article document\n",
        "  #pattern search\n",
        "  '''\n",
        "  file= open(article_dic[article], 'r',encoding ='utf-8')\n",
        "  data = file.read()\n",
        " \n",
        "  search_pattern = search_answer_pattern (question ,article)\n",
        "  print (search_pattern)\n",
        "  for pattern in search_pattern:\n",
        "    ans = re.findall(pattern,data)\n",
        "    if len(ans) != 0:\n",
        "      return ans[0]\n",
        "  return ''"
      ],
      "execution_count": 0,
      "outputs": []
    },
    {
      "metadata": {
        "id": "ILIY2Dj2Mntz",
        "colab_type": "code",
        "colab": {}
      },
      "cell_type": "code",
      "source": [
        "def search_answer_pattern (question , article):\n",
        "  '''\n",
        "  (str,str)=>list\n",
        "  create pattern for finding answer \n",
        "  param:\n",
        "    question: ประโยคคำถาม\n",
        "    article : หัวเรื่องที่เลือกขึ้นมาจากคำถาม\n",
        "  return string of pattern\n",
        "  '''\n",
        "  #from pythainlp.tokenize import word_tokenize\n",
        "  #import re\n",
        "  q_word = ['อะไร','ใคร','ที่ไหน','ไหน','ใด']\n",
        "  \n",
        "  \n",
        "  \n",
        "  q_list = word_tokenize(question.replace(article,'article'))\n",
        "  pattern = ''\n",
        "  map_ans = '([ก-ํ]+)'\n",
        "  map_pattern = []\n",
        "  for q in q_list:\n",
        "    if q in q_word:\n",
        "       map_pattern.append(map_ans)\n",
        "    if q == 'article':\n",
        "       map_pattern.append(article)\n",
        "    elif q not in q_word :\n",
        "       map_pattern.append(q)\n",
        "                       \n",
        "  #map_pattern will be like ['เฮโจเกียว','เป็น','เมืองหลวง','ของ','ประเทศ','([ก-ํ]+)']\n",
        "  \n",
        "  return make_pattern(map_pattern,map_ans)"
      ],
      "execution_count": 0,
      "outputs": []
    },
    {
      "metadata": {
        "id": "cQ3XbK_kpbfz",
        "colab_type": "code",
        "colab": {}
      },
      "cell_type": "code",
      "source": [
        "def make_pattern( map_pattern_list,map_ans):\n",
        "  '''\n",
        "  จัดรูปแบบที่เป็นไปได้เกือบทั้งหมดของแพทเทิร์นนั้น\n",
        "  return list of pattern string \n",
        "  \n",
        "  '''\n",
        " \n",
        "  p_list=[]\n",
        "  if map_pattern_list[0] == map_ans:\n",
        "    map_pattern_list[0] = '\\s'+str(map_ans)\n",
        "  #elif  map_pattern_list[-1] == map_ans:\n",
        "  map_pattern_list[-1] = str(map_ans)+str('\\s')\n",
        " \n",
        "  p_list.append(''.join(map_pattern_list)) #หาตรงๆไปเลย ดีสุด ตรงสุด คิดว่านะ\n",
        "  i = 1\n",
        "  while i < len(map_pattern_list)-1:\n",
        "    #เติมทีละ i ตัว จนถึง จน ช่องว่าง-1 ตัว\n",
        "    p_pattern = '.*'.join(map_pattern_list[0:i+1])+''.join(map_pattern_list[i+1:]) #เติมจากด้านหน้าไปเรื่อยๆ \n",
        "    \n",
        "    p_list.append( p_pattern) \n",
        "    i = i+1\n",
        "  \n",
        "  #p_list.append('.*'.join(map_pattern_list)) #ยังไงก็น่าจะได้คำตอบนะ\n",
        "  return p_list\n",
        "  \n",
        "    "
      ],
      "execution_count": 0,
      "outputs": []
    },
    {
      "metadata": {
        "id": "iLW3XyB_HpFj",
        "colab_type": "code",
        "colab": {}
      },
      "cell_type": "code",
      "source": [
        "def answer(question,data,article):\n",
        "  '''\n",
        "  (str,str,str) => str\n",
        "  qusetion: คำถาม\n",
        "  data : ข้อมูลที่อ่านจากไฟล์ article_file มา\n",
        "  article : ชื่อหัวข้อ\n",
        "  return คำตอบ\n",
        "  '''\n",
        "  "
      ],
      "execution_count": 0,
      "outputs": []
    },
    {
      "metadata": {
        "id": "-NYO1_4o_88p",
        "colab_type": "code",
        "colab": {}
      },
      "cell_type": "code",
      "source": [
        "def get_article_score (question , article_file_name , key_article_list ):\n",
        "  '''\n",
        "  (str,str) => int \n",
        "  ถ้ามีคำใน key_article เยอะก็น่าจะมีความน่าจะเป็นที่จะมีคำตอบอยู่ในไฟล์นี้\n",
        "  param :\n",
        "    question : คำถามทั้งหมดที่ถาม\n",
        "    article_file_name : ชื่อไฟล์ของหัวข้อนั้นๆ\n",
        "   เช่น เฮโจเกยวเป็นเมืองหลวงของประเทศอะไร\n",
        "  '''\n",
        "  score = 0 \n",
        "  file = open( article_file_name ,'r')\n",
        "  data = file.read()\n",
        "  for q in key_article_list :\n",
        "    if q in data:\n",
        "      score+=1\n",
        "  return score\n",
        "   "
      ],
      "execution_count": 0,
      "outputs": []
    },
    {
      "metadata": {
        "id": "7CAojtHVA_ny",
        "colab_type": "code",
        "colab": {}
      },
      "cell_type": "code",
      "source": [
        "def get_file_name (article , article_dic):\n",
        "  '''\n",
        "  (str, dic)=> str\n",
        "  เรียกชื่อไฟล์ของ article นั้นๆ\n",
        "  param : \n",
        "    article  : ชื่อหัวข้อที่ต้องการเปิด\n",
        "    article_dic : dictionary ทีเก็บ key เป็น article ,value เป็น ชื่อไฟล์\n",
        "  '''\n",
        "  return article_dic[article]"
      ],
      "execution_count": 0,
      "outputs": []
    },
    {
      "metadata": {
        "id": "j2R6Fi7H6EdY",
        "colab_type": "code",
        "outputId": "418c09c5-12bd-4cd6-9df9-6f4ea24322c9",
        "colab": {
          "base_uri": "https://localhost:8080/",
          "height": 34
        }
      },
      "cell_type": "code",
      "source": [
        "prioritize_keyword (kat ,fwd)"
      ],
      "execution_count": 0,
      "outputs": [
        {
          "output_type": "stream",
          "text": [
            "None\n"
          ],
          "name": "stdout"
        }
      ]
    },
    {
      "metadata": {
        "id": "pG3WVb6f9cp7",
        "colab_type": "text"
      },
      "cell_type": "markdown",
      "source": [
        ""
      ]
    },
    {
      "metadata": {
        "id": "lo7GyTty9bpU",
        "colab_type": "code",
        "colab": {}
      },
      "cell_type": "code",
      "source": [
        ""
      ],
      "execution_count": 0,
      "outputs": []
    },
    {
      "metadata": {
        "id": "C-s7Jic_M6UF",
        "colab_type": "text"
      },
      "cell_type": "markdown",
      "source": [
        "#READ JSON FILE FROM TEXT"
      ]
    },
    {
      "metadata": {
        "id": "U2qAVwZn6KLl",
        "colab_type": "code",
        "colab": {}
      },
      "cell_type": "code",
      "source": [
        "import json"
      ],
      "execution_count": 0,
      "outputs": []
    },
    {
      "metadata": {
        "id": "WqX9PwlhzO3v",
        "colab_type": "code",
        "colab": {}
      },
      "cell_type": "code",
      "source": [
        "a = ['b','v','e']\n",
        "f =open('test_json3.txt','w')\n",
        "f.write(json.dumps(a))\n",
        "f.close()"
      ],
      "execution_count": 0,
      "outputs": []
    },
    {
      "metadata": {
        "id": "rN23-wr-za42",
        "colab_type": "code",
        "outputId": "679c4504-1d6d-435b-8dee-149bc7fa65ec",
        "colab": {
          "base_uri": "https://localhost:8080/",
          "height": 51
        }
      },
      "cell_type": "code",
      "source": [
        "f1 = open('test_json3.txt','r',encoding = 'utf-8')\n",
        "data = f1.readline()\n",
        "f1.close()\n",
        "print (type(data),data)\n",
        "\n",
        "data2 = data.encode(encoding='utf-8')\n",
        "print (type(data2),data2)"
      ],
      "execution_count": 0,
      "outputs": [
        {
          "output_type": "stream",
          "text": [
            "<class 'str'> [\"b\", \"v\", \"e\"]\n",
            "<class 'bytes'> b'[\"b\", \"v\", \"e\"]'\n"
          ],
          "name": "stdout"
        }
      ]
    },
    {
      "metadata": {
        "id": "cZ_AolJeQ5Uv",
        "colab_type": "code",
        "outputId": "71582dad-ca99-401e-aa45-4a3b8c765190",
        "colab": {
          "base_uri": "https://localhost:8080/",
          "height": 34
        }
      },
      "cell_type": "code",
      "source": [
        "json.loads(data)"
      ],
      "execution_count": 0,
      "outputs": [
        {
          "output_type": "execute_result",
          "data": {
            "text/plain": [
              "['b', 'v', 'e']"
            ]
          },
          "metadata": {
            "tags": []
          },
          "execution_count": 26
        }
      ]
    },
    {
      "metadata": {
        "id": "4tzjDRCf3JWJ",
        "colab_type": "code",
        "colab": {}
      },
      "cell_type": "code",
      "source": [
        "s = {\"success\": \"true\", \"status\": 200, \"message\": \"Hello\"}"
      ],
      "execution_count": 0,
      "outputs": []
    },
    {
      "metadata": {
        "id": "lIGabeDPMqmv",
        "colab_type": "code",
        "outputId": "02b34c07-7838-46c7-9ea0-093b80eeeb79",
        "colab": {
          "base_uri": "https://localhost:8080/",
          "height": 34
        }
      },
      "cell_type": "code",
      "source": [
        "s2 = str(s)\n",
        "print (s2)"
      ],
      "execution_count": 0,
      "outputs": [
        {
          "output_type": "stream",
          "text": [
            "{'success': 'true', 'status': 200, 'message': 'Hello'}\n"
          ],
          "name": "stdout"
        }
      ]
    },
    {
      "metadata": {
        "id": "0XidTriuU80O",
        "colab_type": "code",
        "colab": {}
      },
      "cell_type": "code",
      "source": [
        "ss = \"\"+s+\"\""
      ],
      "execution_count": 0,
      "outputs": []
    },
    {
      "metadata": {
        "id": "SoPVe-EVVDz-",
        "colab_type": "code",
        "outputId": "c894a3b8-b4ec-4bc7-e504-d2a0482e5690",
        "colab": {
          "base_uri": "https://localhost:8080/",
          "height": 34
        }
      },
      "cell_type": "code",
      "source": [
        "ss"
      ],
      "execution_count": 0,
      "outputs": [
        {
          "output_type": "execute_result",
          "data": {
            "text/plain": [
              "'{\"success\": \"true\", \"status\": 200, \"message\": \"Hello\"}'"
            ]
          },
          "metadata": {
            "tags": []
          },
          "execution_count": 328
        }
      ]
    },
    {
      "metadata": {
        "id": "Ax-dg1UySTbf",
        "colab_type": "code",
        "outputId": "2d052ae1-4344-4252-c986-eb816ac52238",
        "colab": {
          "base_uri": "https://localhost:8080/",
          "height": 34
        }
      },
      "cell_type": "code",
      "source": [
        "type(json.loads(ss))"
      ],
      "execution_count": 0,
      "outputs": [
        {
          "output_type": "execute_result",
          "data": {
            "text/plain": [
              "dict"
            ]
          },
          "metadata": {
            "tags": []
          },
          "execution_count": 329
        }
      ]
    },
    {
      "metadata": {
        "id": "E0sfBuUxR15U",
        "colab_type": "code",
        "outputId": "648cd0ed-c00e-46db-f045-cbb8a69416e1",
        "colab": {
          "base_uri": "https://localhost:8080/",
          "height": 34
        }
      },
      "cell_type": "code",
      "source": [
        "ss = "
      ],
      "execution_count": 0,
      "outputs": [
        {
          "output_type": "execute_result",
          "data": {
            "text/plain": [
              "dict"
            ]
          },
          "metadata": {
            "tags": []
          },
          "execution_count": 300
        }
      ]
    },
    {
      "metadata": {
        "id": "d5iM9AnzSBO8",
        "colab_type": "code",
        "outputId": "1f26b126-e309-4b20-c6db-39a09ec9e408",
        "colab": {
          "base_uri": "https://localhost:8080/",
          "height": 34
        }
      },
      "cell_type": "code",
      "source": [
        "s"
      ],
      "execution_count": 0,
      "outputs": [
        {
          "output_type": "execute_result",
          "data": {
            "text/plain": [
              "'{\"success\": \"true\", \"status\": 200, \"message\": \"Hello\"}'"
            ]
          },
          "metadata": {
            "tags": []
          },
          "execution_count": 291
        }
      ]
    },
    {
      "metadata": {
        "id": "ZKch5rwdRR-1",
        "colab_type": "code",
        "outputId": "9ad5ba10-fd94-43a8-dd5b-a65cc4daa77c",
        "colab": {
          "base_uri": "https://localhost:8080/",
          "height": 34
        }
      },
      "cell_type": "code",
      "source": [
        "open('ss.txt','w').write(str(s))\n"
      ],
      "execution_count": 0,
      "outputs": [
        {
          "output_type": "execute_result",
          "data": {
            "text/plain": [
              "54"
            ]
          },
          "metadata": {
            "tags": []
          },
          "execution_count": 310
        }
      ]
    },
    {
      "metadata": {
        "id": "nOM-t8zaTOeE",
        "colab_type": "code",
        "colab": {}
      },
      "cell_type": "code",
      "source": [
        "data = open('ss.txt','r').read()"
      ],
      "execution_count": 0,
      "outputs": []
    },
    {
      "metadata": {
        "id": "b9Mc-qYjTVdv",
        "colab_type": "code",
        "outputId": "2168e153-f2cf-4ad8-bd67-787f4aae1b9f",
        "colab": {
          "base_uri": "https://localhost:8080/",
          "height": 34
        }
      },
      "cell_type": "code",
      "source": [
        "j_data = "
      ],
      "execution_count": 0,
      "outputs": [
        {
          "output_type": "execute_result",
          "data": {
            "text/plain": [
              "\"{'SucceSS': 'true', 'StatuS': 200, 'meSSage': 'Hello'}\""
            ]
          },
          "metadata": {
            "tags": []
          },
          "execution_count": 308
        }
      ]
    },
    {
      "metadata": {
        "id": "Y_0fwZwHOYmo",
        "colab_type": "code",
        "outputId": "844c29ab-a259-4349-a61b-76c0081c1cf6",
        "colab": {
          "base_uri": "https://localhost:8080/",
          "height": 34
        }
      },
      "cell_type": "code",
      "source": [
        "print (s[0])"
      ],
      "execution_count": 0,
      "outputs": [
        {
          "output_type": "stream",
          "text": [
            "{\n"
          ],
          "name": "stdout"
        }
      ]
    },
    {
      "metadata": {
        "id": "5GuJHmIAOq1g",
        "colab_type": "code",
        "outputId": "be9131ac-cf9c-40a1-c5c2-b07b5c4a12d8",
        "colab": {
          "base_uri": "https://localhost:8080/",
          "height": 34
        }
      },
      "cell_type": "code",
      "source": [
        "json.loads(s)"
      ],
      "execution_count": 0,
      "outputs": [
        {
          "output_type": "execute_result",
          "data": {
            "text/plain": [
              "{'message': 'Hello', 'status': 200, 'success': 'true'}"
            ]
          },
          "metadata": {
            "tags": []
          },
          "execution_count": 254
        }
      ]
    },
    {
      "metadata": {
        "id": "8LPSzwdl-52L",
        "colab_type": "code",
        "outputId": "41bb357c-e21a-4a09-d64c-b2d172f2f39a",
        "colab": {
          "base_uri": "https://localhost:8080/",
          "height": 34
        }
      },
      "cell_type": "code",
      "source": [
        "t = open('test_json.json','w')\n",
        "t.write(json.dumps(s))\n",
        "t.close\n"
      ],
      "execution_count": 0,
      "outputs": [
        {
          "output_type": "execute_result",
          "data": {
            "text/plain": [
              "<function TextIOWrapper.close>"
            ]
          },
          "metadata": {
            "tags": []
          },
          "execution_count": 255
        }
      ]
    },
    {
      "metadata": {
        "id": "C67ryXwu_Lkq",
        "colab_type": "code",
        "outputId": "cbd01586-fa75-4992-9b84-2ea843cf3833",
        "colab": {
          "base_uri": "https://localhost:8080/",
          "height": 34
        }
      },
      "cell_type": "code",
      "source": [
        "u = open('test_json.json','r') \n",
        "s = u.read()\n",
        "u.close()\n",
        "print (s)"
      ],
      "execution_count": 0,
      "outputs": [
        {
          "output_type": "stream",
          "text": [
            "\n"
          ],
          "name": "stdout"
        }
      ]
    },
    {
      "metadata": {
        "id": "6PcSCtFG-vzA",
        "colab_type": "code",
        "colab": {}
      },
      "cell_type": "code",
      "source": [
        "d = json.loads(json.dumps(s))"
      ],
      "execution_count": 0,
      "outputs": []
    },
    {
      "metadata": {
        "id": "5eY5LaEi-zGt",
        "colab_type": "code",
        "outputId": "11053c9a-f69e-46ba-c56e-ace854d34853",
        "colab": {
          "base_uri": "https://localhost:8080/",
          "height": 34
        }
      },
      "cell_type": "code",
      "source": [
        "print (d)"
      ],
      "execution_count": 0,
      "outputs": [
        {
          "output_type": "stream",
          "text": [
            "\n"
          ],
          "name": "stdout"
        }
      ]
    },
    {
      "metadata": {
        "id": "YTt3YRHX-2Ff",
        "colab_type": "code",
        "colab": {}
      },
      "cell_type": "code",
      "source": [
        "o1 =open('test_json2.txt','r').read()"
      ],
      "execution_count": 0,
      "outputs": []
    },
    {
      "metadata": {
        "id": "ycvsfUsSPe7g",
        "colab_type": "code",
        "outputId": "3391245b-6727-414a-d9a3-ad723fa21122",
        "colab": {
          "base_uri": "https://localhost:8080/",
          "height": 34
        }
      },
      "cell_type": "code",
      "source": [
        "print (o1)"
      ],
      "execution_count": 0,
      "outputs": [
        {
          "output_type": "stream",
          "text": [
            "['b', 'v', 'e']\n"
          ],
          "name": "stdout"
        }
      ]
    },
    {
      "metadata": {
        "id": "9gTz37R5Pllc",
        "colab_type": "code",
        "outputId": "ed4b9408-55a5-4891-83f4-368533862708",
        "colab": {
          "base_uri": "https://localhost:8080/",
          "height": 34
        }
      },
      "cell_type": "code",
      "source": [
        "o1[0]"
      ],
      "execution_count": 0,
      "outputs": [
        {
          "output_type": "execute_result",
          "data": {
            "text/plain": [
              "'['"
            ]
          },
          "metadata": {
            "tags": []
          },
          "execution_count": 262
        }
      ]
    },
    {
      "metadata": {
        "id": "YK57qvELPqt8",
        "colab_type": "code",
        "colab": {}
      },
      "cell_type": "code",
      "source": [
        "o2 = json.dumps(o1)"
      ],
      "execution_count": 0,
      "outputs": []
    },
    {
      "metadata": {
        "id": "ODdP4w1UPvnR",
        "colab_type": "code",
        "colab": {}
      },
      "cell_type": "code",
      "source": [
        "o3 = json.loads(o2)"
      ],
      "execution_count": 0,
      "outputs": []
    },
    {
      "metadata": {
        "id": "3oWdwhgePz4U",
        "colab_type": "code",
        "outputId": "b963f78b-f0c1-4a22-edcf-fc030379fe73",
        "colab": {
          "base_uri": "https://localhost:8080/",
          "height": 34
        }
      },
      "cell_type": "code",
      "source": [
        "o3[0]"
      ],
      "execution_count": 0,
      "outputs": [
        {
          "output_type": "execute_result",
          "data": {
            "text/plain": [
              "'['"
            ]
          },
          "metadata": {
            "tags": []
          },
          "execution_count": 265
        }
      ]
    },
    {
      "metadata": {
        "id": "PD_g205iP10r",
        "colab_type": "code",
        "outputId": "6ef3dfd4-fdb7-4485-d3da-2cd1f6cf3098",
        "colab": {
          "base_uri": "https://localhost:8080/",
          "height": 34
        }
      },
      "cell_type": "code",
      "source": [
        "o2[0]"
      ],
      "execution_count": 0,
      "outputs": [
        {
          "output_type": "execute_result",
          "data": {
            "text/plain": [
              "'\"'"
            ]
          },
          "metadata": {
            "tags": []
          },
          "execution_count": 266
        }
      ]
    },
    {
      "metadata": {
        "id": "BgYzgC0ZP_iA",
        "colab_type": "code",
        "outputId": "c9aad3c4-836a-4b53-ea09-be48775dc5e7",
        "colab": {
          "base_uri": "https://localhost:8080/",
          "height": 34
        }
      },
      "cell_type": "code",
      "source": [
        "print (o3)\n"
      ],
      "execution_count": 0,
      "outputs": [
        {
          "output_type": "stream",
          "text": [
            "['b', 'v', 'e']\n"
          ],
          "name": "stdout"
        }
      ]
    },
    {
      "metadata": {
        "id": "N84vevq1RIcv",
        "colab_type": "code",
        "colab": {}
      },
      "cell_type": "code",
      "source": [
        "file = open('get_freq_word.txt','r')\n",
        "gfd = file.read()\n",
        "file.close()\n"
      ],
      "execution_count": 0,
      "outputs": []
    },
    {
      "metadata": {
        "id": "vO5SPoJlVkrc",
        "colab_type": "code",
        "colab": {}
      },
      "cell_type": "code",
      "source": [
        "to_str = gfd[8:20]\n"
      ],
      "execution_count": 0,
      "outputs": []
    },
    {
      "metadata": {
        "id": "UqwryCDuV0ar",
        "colab_type": "code",
        "colab": {}
      },
      "cell_type": "code",
      "source": [
        "to_str2 =gfd[-20:-1]"
      ],
      "execution_count": 0,
      "outputs": []
    },
    {
      "metadata": {
        "id": "xzckqg-4WMtK",
        "colab_type": "code",
        "outputId": "73c18508-d79a-4197-d775-c905fed787b4",
        "colab": {
          "base_uri": "https://localhost:8080/",
          "height": 34
        }
      },
      "cell_type": "code",
      "source": [
        "to_str"
      ],
      "execution_count": 0,
      "outputs": [
        {
          "output_type": "execute_result",
          "data": {
            "text/plain": [
              "\"{'ที': 17057\""
            ]
          },
          "metadata": {
            "tags": []
          },
          "execution_count": 336
        }
      ]
    },
    {
      "metadata": {
        "id": "Tn_1i_atWN5c",
        "colab_type": "code",
        "outputId": "a18dc433-aca6-4401-cc83-7f6005238d38",
        "colab": {
          "base_uri": "https://localhost:8080/",
          "height": 34
        }
      },
      "cell_type": "code",
      "source": [
        "to_str2"
      ],
      "execution_count": 0,
      "outputs": [
        {
          "output_type": "execute_result",
          "data": {
            "text/plain": [
              "\": 0, 'สิทธารถะ': 0}\""
            ]
          },
          "metadata": {
            "tags": []
          },
          "execution_count": 337
        }
      ]
    }
  ]
}